{
 "cells": [
  {
   "cell_type": "code",
   "execution_count": 43,
   "metadata": {
    "ExecuteTime": {
     "end_time": "2020-01-12T11:28:10.428517Z",
     "start_time": "2020-01-12T11:28:10.412896Z"
    }
   },
   "outputs": [],
   "source": [
    "import pickle\n",
    "import pandas as pd\n",
    "import numpy as np\n",
    "from fastai.text import *"
   ]
  },
  {
   "cell_type": "markdown",
   "metadata": {},
   "source": [
    "# Get all the data"
   ]
  },
  {
   "cell_type": "code",
   "execution_count": 44,
   "metadata": {
    "ExecuteTime": {
     "end_time": "2020-01-12T11:28:10.493993Z",
     "start_time": "2020-01-12T11:28:10.444234Z"
    }
   },
   "outputs": [
    {
     "name": "stdout",
     "output_type": "stream",
     "text": [
      "(10000,)\n"
     ]
    },
    {
     "data": {
      "text/plain": [
       "0                       Company and culture are great!\n",
       "1    Company culture, autonomy, global strategy, te...\n",
       "2    Not micromanaged.  Co workers were good.  Pay ...\n",
       "3    Great work environment, fast paced, hard worki...\n",
       "4    I love working with dogs and people. I enjoy i...\n",
       "dtype: object"
      ]
     },
     "execution_count": 44,
     "metadata": {},
     "output_type": "execute_result"
    }
   ],
   "source": [
    "with open('gdr_assignment_pros_cons.pkl', 'rb') as f:\n",
    "    data1 = pickle.load(f)\n",
    "data1 = pd.concat([data1.pros, data1.cons], ignore_index=True)\n",
    "print(data1.shape)\n",
    "data1.head()"
   ]
  },
  {
   "cell_type": "code",
   "execution_count": 45,
   "metadata": {
    "ExecuteTime": {
     "end_time": "2020-01-12T11:28:10.527793Z",
     "start_time": "2020-01-12T11:28:10.499043Z"
    }
   },
   "outputs": [
    {
     "name": "stdout",
     "output_type": "stream",
     "text": [
      "(8000, 2)\n"
     ]
    },
    {
     "data": {
      "text/html": [
       "<div>\n",
       "<style scoped>\n",
       "    .dataframe tbody tr th:only-of-type {\n",
       "        vertical-align: middle;\n",
       "    }\n",
       "\n",
       "    .dataframe tbody tr th {\n",
       "        vertical-align: top;\n",
       "    }\n",
       "\n",
       "    .dataframe thead th {\n",
       "        text-align: right;\n",
       "    }\n",
       "</style>\n",
       "<table border=\"1\" class=\"dataframe\">\n",
       "  <thead>\n",
       "    <tr style=\"text-align: right;\">\n",
       "      <th></th>\n",
       "      <th>label</th>\n",
       "      <th>pp_sent</th>\n",
       "    </tr>\n",
       "  </thead>\n",
       "  <tbody>\n",
       "    <tr>\n",
       "      <th>16</th>\n",
       "      <td>[Job Security/Advancement]</td>\n",
       "      <td>developing your skills</td>\n",
       "    </tr>\n",
       "    <tr>\n",
       "      <th>149</th>\n",
       "      <td>[Job Security/Advancement, business_vision_com...</td>\n",
       "      <td>rapidly growing</td>\n",
       "    </tr>\n",
       "    <tr>\n",
       "      <th>220</th>\n",
       "      <td>[Job Security/Advancement]</td>\n",
       "      <td>easy to get your foot in the door</td>\n",
       "    </tr>\n",
       "    <tr>\n",
       "      <th>233</th>\n",
       "      <td>[Job Security/Advancement]</td>\n",
       "      <td>opportunity for advancement</td>\n",
       "    </tr>\n",
       "    <tr>\n",
       "      <th>396</th>\n",
       "      <td>[Job Security/Advancement]</td>\n",
       "      <td>career growth options</td>\n",
       "    </tr>\n",
       "  </tbody>\n",
       "</table>\n",
       "</div>"
      ],
      "text/plain": [
       "                                                 label  \\\n",
       "16                          [Job Security/Advancement]   \n",
       "149  [Job Security/Advancement, business_vision_com...   \n",
       "220                         [Job Security/Advancement]   \n",
       "233                         [Job Security/Advancement]   \n",
       "396                         [Job Security/Advancement]   \n",
       "\n",
       "                               pp_sent  \n",
       "16              developing your skills  \n",
       "149                    rapidly growing  \n",
       "220  easy to get your foot in the door  \n",
       "233        opportunity for advancement  \n",
       "396              career growth options  "
      ]
     },
     "execution_count": 45,
     "metadata": {},
     "output_type": "execute_result"
    }
   ],
   "source": [
    "with open('gdr_assignment_labelled.pkl', 'rb') as f:\n",
    "    data2 = pickle.load(f)\n",
    "print(data2.shape)\n",
    "data2.head()"
   ]
  },
  {
   "cell_type": "markdown",
   "metadata": {},
   "source": [
    "# Fine Tune Language model using all text available "
   ]
  },
  {
   "cell_type": "code",
   "execution_count": 53,
   "metadata": {
    "ExecuteTime": {
     "end_time": "2020-01-12T11:31:31.193991Z",
     "start_time": "2020-01-12T11:31:26.768447Z"
    }
   },
   "outputs": [
    {
     "data": {
      "text/html": [],
      "text/plain": [
       "<IPython.core.display.HTML object>"
      ]
     },
     "metadata": {},
     "output_type": "display_data"
    },
    {
     "data": {
      "text/html": [],
      "text/plain": [
       "<IPython.core.display.HTML object>"
      ]
     },
     "metadata": {},
     "output_type": "display_data"
    },
    {
     "data": {
      "text/html": [
       "<table border=\"1\" class=\"dataframe\">\n",
       "  <thead>\n",
       "    <tr style=\"text-align: right;\">\n",
       "      <th>idx</th>\n",
       "      <th>text</th>\n",
       "    </tr>\n",
       "  </thead>\n",
       "  <tbody>\n",
       "    <tr>\n",
       "      <td>0</td>\n",
       "      <td>knowledge xxbos personal development xxbos i have learnt a lot xxbos opportunity for advancement if you are willing to work your butt off xxbos good career progression without having to give up too much of what you enjoy if you like the hands on work rather than management xxbos lots of excitement around the company 's growth potential xxbos looks good on a resume xxbos fast learning experience xxbos fast</td>\n",
       "    </tr>\n",
       "    <tr>\n",
       "      <td>1</td>\n",
       "      <td>business model is brilliant xxbos eventbrite is a forward thinking company xxbos most people work like xxunk chickens since their is serious lack of direction in management xxbos forward thinking xxbos for the business model xxbos solving the challenges of a rapidly growing company is what gives meaning to the work xxbos culture is really hit or miss some groups are a great close knit group xxbos there have been</td>\n",
       "    </tr>\n",
       "    <tr>\n",
       "      <td>2</td>\n",
       "      <td>co workers are all extremely talented xxbos mostly relaxed atmosphere xxbos great team spirit xxbos little micro management if you are a senior level guy xxbos ebay hires solid people at the individual contributor level xxbos all my co workers are hard working xxbos better internal communication xxbos healthy competition xxbos helpful culture from top to bottom xxbos too see customers dogs come in excited as can be while in</td>\n",
       "    </tr>\n",
       "    <tr>\n",
       "      <td>3</td>\n",
       "      <td>from specific managers who have trouble xxunk frustration in a mature xxbos definitely the old boys network rules here xxbos not very woman or minority friendly xxbos a place for white males xxbos favoritism is rampant when junior associates get bumped up promoted ahead of senior associates due to who they know xxbos as well as it being a boys club xxbos still the german white male at the top</td>\n",
       "    </tr>\n",
       "    <tr>\n",
       "      <td>4</td>\n",
       "      <td>xxbos senior management team xxbos they truly care about your pets xxbos workday has brought in several new senior leaders in the past xxunk months xxbos an accessible upper management xxbos the ceo is a very charismatic leader xxbos or they ' ve been treated badly before xxbos senior management is working to make this a company for the long term xxbos everything is based on leadership principles xxbos most</td>\n",
       "    </tr>\n",
       "  </tbody>\n",
       "</table>"
      ],
      "text/plain": [
       "<IPython.core.display.HTML object>"
      ]
     },
     "metadata": {},
     "output_type": "display_data"
    }
   ],
   "source": [
    "train = pd.concat([data2['pp_sent'], data1], ignore_index=True)\n",
    "train = train.rename('pp_sent').to_frame()\n",
    "\n",
    "# Remove punctuation or symbol from the text data\n",
    "train['pp_sent'] = train['pp_sent'].str.replace('([“”¨«»®´·º½¾¿¡§£₤‘’-])', '')\n",
    "train['pp_sent'] = train['pp_sent'].str.replace('\\r\\n', '')\n",
    "\n",
    "\n",
    "# Create databunch\n",
    "data = (TextList.from_df(train, cols='pp_sent')\n",
    "                .split_by_rand_pct(0.25)\n",
    "                .label_for_lm()  \n",
    "                .databunch(bs=48))\n",
    "data.show_batch()"
   ]
  },
  {
   "cell_type": "code",
   "execution_count": 56,
   "metadata": {
    "ExecuteTime": {
     "end_time": "2020-01-12T11:32:14.391958Z",
     "start_time": "2020-01-12T11:32:13.946750Z"
    }
   },
   "outputs": [],
   "source": [
    "# Fit the deep learning model with domain specific data\n",
    "learn = language_model_learner(data,AWD_LSTM, drop_mult=0.3)\n"
   ]
  },
  {
   "cell_type": "code",
   "execution_count": 57,
   "metadata": {
    "ExecuteTime": {
     "end_time": "2020-01-12T11:38:20.688749Z",
     "start_time": "2020-01-12T11:32:17.524893Z"
    }
   },
   "outputs": [
    {
     "data": {
      "text/html": [
       "\n",
       "    <div>\n",
       "        <style>\n",
       "            /* Turns off some styling */\n",
       "            progress {\n",
       "                /* gets rid of default border in Firefox and Opera. */\n",
       "                border: none;\n",
       "                /* Needs to be in here for Safari polyfill so background images work as expected. */\n",
       "                background-size: auto;\n",
       "            }\n",
       "            .progress-bar-interrupted, .progress-bar-interrupted::-webkit-progress-bar {\n",
       "                background: #F44336;\n",
       "            }\n",
       "        </style>\n",
       "      <progress value='1' class='' max='2', style='width:300px; height:20px; vertical-align: middle;'></progress>\n",
       "      50.00% [1/2 05:37<05:37]\n",
       "    </div>\n",
       "    \n",
       "<table border=\"1\" class=\"dataframe\">\n",
       "  <thead>\n",
       "    <tr style=\"text-align: left;\">\n",
       "      <th>epoch</th>\n",
       "      <th>train_loss</th>\n",
       "      <th>valid_loss</th>\n",
       "      <th>accuracy</th>\n",
       "      <th>time</th>\n",
       "    </tr>\n",
       "  </thead>\n",
       "  <tbody>\n",
       "    <tr>\n",
       "      <td>0</td>\n",
       "      <td>9.116426</td>\n",
       "      <td>#na#</td>\n",
       "      <td>05:37</td>\n",
       "    </tr>\n",
       "  </tbody>\n",
       "</table><p>\n",
       "\n",
       "    <div>\n",
       "        <style>\n",
       "            /* Turns off some styling */\n",
       "            progress {\n",
       "                /* gets rid of default border in Firefox and Opera. */\n",
       "                border: none;\n",
       "                /* Needs to be in here for Safari polyfill so background images work as expected. */\n",
       "                background-size: auto;\n",
       "            }\n",
       "            .progress-bar-interrupted, .progress-bar-interrupted::-webkit-progress-bar {\n",
       "                background: #F44336;\n",
       "            }\n",
       "        </style>\n",
       "      <progress value='1' class='' max='98', style='width:300px; height:20px; vertical-align: middle;'></progress>\n",
       "      1.02% [1/98 00:13<21:24 10.2721]\n",
       "    </div>\n",
       "    "
      ],
      "text/plain": [
       "<IPython.core.display.HTML object>"
      ]
     },
     "metadata": {},
     "output_type": "display_data"
    },
    {
     "name": "stdout",
     "output_type": "stream",
     "text": [
      "LR Finder is complete, type {learner_name}.recorder.plot() to see the graph.\n"
     ]
    }
   ],
   "source": [
    "# select the appropriate learning rate\n",
    "learn.lr_find()\n"
   ]
  },
  {
   "cell_type": "code",
   "execution_count": 58,
   "metadata": {
    "ExecuteTime": {
     "end_time": "2020-01-12T11:55:06.353671Z",
     "start_time": "2020-01-12T11:55:05.862631Z"
    }
   },
   "outputs": [
    {
     "data": {
      "image/png": "[encoded data removed]",
      "text/plain": [
       "<Figure size 432x288 with 1 Axes>"
      ]
     },
     "metadata": {
      "needs_background": "light"
     },
     "output_type": "display_data"
    }
   ],
   "source": [
    "# we typically find the point where the slope is steepest\n",
    "learn.recorder.plot()"
   ]
  },
  {
   "cell_type": "code",
   "execution_count": 60,
   "metadata": {
    "ExecuteTime": {
     "end_time": "2020-01-12T12:34:01.809653Z",
     "start_time": "2020-01-12T12:04:06.077327Z"
    }
   },
   "outputs": [
    {
     "data": {
      "text/html": [
       "<table border=\"1\" class=\"dataframe\">\n",
       "  <thead>\n",
       "    <tr style=\"text-align: left;\">\n",
       "      <th>epoch</th>\n",
       "      <th>train_loss</th>\n",
       "      <th>valid_loss</th>\n",
       "      <th>accuracy</th>\n",
       "      <th>time</th>\n",
       "    </tr>\n",
       "  </thead>\n",
       "  <tbody>\n",
       "    <tr>\n",
       "      <td>0</td>\n",
       "      <td>4.079424</td>\n",
       "      <td>4.093198</td>\n",
       "      <td>0.260184</td>\n",
       "      <td>05:57</td>\n",
       "    </tr>\n",
       "    <tr>\n",
       "      <td>1</td>\n",
       "      <td>4.148405</td>\n",
       "      <td>4.133693</td>\n",
       "      <td>0.260854</td>\n",
       "      <td>05:56</td>\n",
       "    </tr>\n",
       "    <tr>\n",
       "      <td>2</td>\n",
       "      <td>3.904463</td>\n",
       "      <td>4.059026</td>\n",
       "      <td>0.267597</td>\n",
       "      <td>05:58</td>\n",
       "    </tr>\n",
       "    <tr>\n",
       "      <td>3</td>\n",
       "      <td>3.555468</td>\n",
       "      <td>3.987557</td>\n",
       "      <td>0.278488</td>\n",
       "      <td>06:00</td>\n",
       "    </tr>\n",
       "    <tr>\n",
       "      <td>4</td>\n",
       "      <td>3.254518</td>\n",
       "      <td>3.975652</td>\n",
       "      <td>0.280952</td>\n",
       "      <td>06:01</td>\n",
       "    </tr>\n",
       "  </tbody>\n",
       "</table>"
      ],
      "text/plain": [
       "<IPython.core.display.HTML object>"
      ]
     },
     "metadata": {},
     "output_type": "display_data"
    }
   ],
   "source": [
    "# Fit the model based on selected learning rate\n",
    "learn.fit_one_cycle(5, 0.5*1e-1, moms=(0.8,0.7))\n",
    "\n",
    "# Save the encoder for use in classification\n",
    "learn.save_encoder('fine_tuned_enc')"
   ]
  },
  {
   "cell_type": "code",
   "execution_count": null,
   "metadata": {},
   "outputs": [],
   "source": []
  },
  {
   "cell_type": "markdown",
   "metadata": {},
   "source": [
    "# Labelled Dataset"
   ]
  },
  {
   "cell_type": "code",
   "execution_count": 3,
   "metadata": {
    "ExecuteTime": {
     "end_time": "2020-01-12T08:00:02.081604Z",
     "start_time": "2020-01-12T08:00:02.067091Z"
    }
   },
   "outputs": [
    {
     "name": "stdout",
     "output_type": "stream",
     "text": [
      "[nan, 'business_vision_competitors', 'Job Security/Advancement', 'culture_team', 'tech_product', 'management', 'salary_benefits', 'wlb_working_conditions']\n"
     ]
    }
   ],
   "source": [
    "# get unique categories\n",
    "print(list(data2.label.str[1].unique()))"
   ]
  },
  {
   "cell_type": "code",
   "execution_count": 4,
   "metadata": {
    "ExecuteTime": {
     "end_time": "2020-01-12T08:00:02.623922Z",
     "start_time": "2020-01-12T08:00:02.428519Z"
    }
   },
   "outputs": [],
   "source": [
    "# data.loc[:, 'new_label'] = data.label.astype(str)\n",
    "labels = list(data2.label.str[1].unique())\n",
    "labels.remove(np.nan)\n",
    "for col in labels:\n",
    "    data2.loc[:, col] = (np.where(data2.label.str[2].str.contains(col).fillna(False), 1, 0) |\n",
    "                       np.where(data2.label.str[1].str.contains(col).fillna(False), 1, 0) |\n",
    "                       np.where(data2.label.str[0].str.contains(col), 1, 0)\n",
    "                       )\n"
   ]
  },
  {
   "cell_type": "code",
   "execution_count": 5,
   "metadata": {
    "ExecuteTime": {
     "end_time": "2020-01-12T08:00:03.064151Z",
     "start_time": "2020-01-12T08:00:03.035928Z"
    }
   },
   "outputs": [
    {
     "data": {
      "text/html": [
       "<div>\n",
       "<style scoped>\n",
       "    .dataframe tbody tr th:only-of-type {\n",
       "        vertical-align: middle;\n",
       "    }\n",
       "\n",
       "    .dataframe tbody tr th {\n",
       "        vertical-align: top;\n",
       "    }\n",
       "\n",
       "    .dataframe thead th {\n",
       "        text-align: right;\n",
       "    }\n",
       "</style>\n",
       "<table border=\"1\" class=\"dataframe\">\n",
       "  <thead>\n",
       "    <tr style=\"text-align: right;\">\n",
       "      <th></th>\n",
       "      <th>label</th>\n",
       "      <th>pp_sent</th>\n",
       "      <th>business_vision_competitors</th>\n",
       "      <th>Job Security/Advancement</th>\n",
       "      <th>culture_team</th>\n",
       "      <th>tech_product</th>\n",
       "      <th>management</th>\n",
       "      <th>salary_benefits</th>\n",
       "      <th>wlb_working_conditions</th>\n",
       "    </tr>\n",
       "  </thead>\n",
       "  <tbody>\n",
       "    <tr>\n",
       "      <th>16</th>\n",
       "      <td>[Job Security/Advancement]</td>\n",
       "      <td>developing your skills</td>\n",
       "      <td>0</td>\n",
       "      <td>1</td>\n",
       "      <td>0</td>\n",
       "      <td>0</td>\n",
       "      <td>0</td>\n",
       "      <td>0</td>\n",
       "      <td>0</td>\n",
       "    </tr>\n",
       "    <tr>\n",
       "      <th>149</th>\n",
       "      <td>[Job Security/Advancement, business_vision_com...</td>\n",
       "      <td>rapidly growing</td>\n",
       "      <td>1</td>\n",
       "      <td>1</td>\n",
       "      <td>0</td>\n",
       "      <td>0</td>\n",
       "      <td>0</td>\n",
       "      <td>0</td>\n",
       "      <td>0</td>\n",
       "    </tr>\n",
       "    <tr>\n",
       "      <th>220</th>\n",
       "      <td>[Job Security/Advancement]</td>\n",
       "      <td>easy to get your foot in the door</td>\n",
       "      <td>0</td>\n",
       "      <td>1</td>\n",
       "      <td>0</td>\n",
       "      <td>0</td>\n",
       "      <td>0</td>\n",
       "      <td>0</td>\n",
       "      <td>0</td>\n",
       "    </tr>\n",
       "    <tr>\n",
       "      <th>233</th>\n",
       "      <td>[Job Security/Advancement]</td>\n",
       "      <td>opportunity for advancement</td>\n",
       "      <td>0</td>\n",
       "      <td>1</td>\n",
       "      <td>0</td>\n",
       "      <td>0</td>\n",
       "      <td>0</td>\n",
       "      <td>0</td>\n",
       "      <td>0</td>\n",
       "    </tr>\n",
       "    <tr>\n",
       "      <th>396</th>\n",
       "      <td>[Job Security/Advancement]</td>\n",
       "      <td>career growth options</td>\n",
       "      <td>0</td>\n",
       "      <td>1</td>\n",
       "      <td>0</td>\n",
       "      <td>0</td>\n",
       "      <td>0</td>\n",
       "      <td>0</td>\n",
       "      <td>0</td>\n",
       "    </tr>\n",
       "  </tbody>\n",
       "</table>\n",
       "</div>"
      ],
      "text/plain": [
       "                                                 label  \\\n",
       "16                          [Job Security/Advancement]   \n",
       "149  [Job Security/Advancement, business_vision_com...   \n",
       "220                         [Job Security/Advancement]   \n",
       "233                         [Job Security/Advancement]   \n",
       "396                         [Job Security/Advancement]   \n",
       "\n",
       "                               pp_sent  business_vision_competitors  \\\n",
       "16              developing your skills                            0   \n",
       "149                    rapidly growing                            1   \n",
       "220  easy to get your foot in the door                            0   \n",
       "233        opportunity for advancement                            0   \n",
       "396              career growth options                            0   \n",
       "\n",
       "     Job Security/Advancement  culture_team  tech_product  management  \\\n",
       "16                          1             0             0           0   \n",
       "149                         1             0             0           0   \n",
       "220                         1             0             0           0   \n",
       "233                         1             0             0           0   \n",
       "396                         1             0             0           0   \n",
       "\n",
       "     salary_benefits  wlb_working_conditions  \n",
       "16                 0                       0  \n",
       "149                0                       0  \n",
       "220                0                       0  \n",
       "233                0                       0  \n",
       "396                0                       0  "
      ]
     },
     "execution_count": 5,
     "metadata": {},
     "output_type": "execute_result"
    }
   ],
   "source": [
    "data2.head()"
   ]
  },
  {
   "cell_type": "markdown",
   "metadata": {
    "ExecuteTime": {
     "end_time": "2020-01-10T10:49:54.415506Z",
     "start_time": "2020-01-10T10:49:54.392024Z"
    }
   },
   "source": [
    "# Re-fit a supervised model using classification labels"
   ]
  },
  {
   "cell_type": "code",
   "execution_count": 14,
   "metadata": {
    "ExecuteTime": {
     "end_time": "2020-01-12T08:17:33.223558Z",
     "start_time": "2020-01-12T08:17:31.017575Z"
    }
   },
   "outputs": [
    {
     "data": {
      "text/html": [],
      "text/plain": [
       "<IPython.core.display.HTML object>"
      ]
     },
     "metadata": {},
     "output_type": "display_data"
    },
    {
     "data": {
      "text/html": [],
      "text/plain": [
       "<IPython.core.display.HTML object>"
      ]
     },
     "metadata": {},
     "output_type": "display_data"
    },
    {
     "data": {
      "text/html": [
       "<table border=\"1\" class=\"dataframe\">\n",
       "  <thead>\n",
       "    <tr style=\"text-align: right;\">\n",
       "      <th>text</th>\n",
       "      <th>target</th>\n",
       "    </tr>\n",
       "  </thead>\n",
       "  <tbody>\n",
       "    <tr>\n",
       "      <td>xxbos would be great if the sexual harassment course that everyone was required to complete would actually be used not sure why the xxunk of our xxunk still gets to make xxunk sexual xxunk as if xxunk is an xxunk to the rule</td>\n",
       "      <td></td>\n",
       "    </tr>\n",
       "    <tr>\n",
       "      <td>xxbos fantastic benefits – from health dental with xxunk covered by the employer to catered lunch to flex time pto to a dog friendly office this certainly helps take the stress levels down a notch</td>\n",
       "      <td>salary_benefits;wlb_working_conditions</td>\n",
       "    </tr>\n",
       "    <tr>\n",
       "      <td>xxbos it is a complete xxunk where the upper level boys club or those who got in early will be rewarded while everyone else is xxunk xxunk who will be used for xxunk</td>\n",
       "      <td>management</td>\n",
       "    </tr>\n",
       "    <tr>\n",
       "      <td>xxbos lots of different xxunk of businesses so somewhat of a potential for mobility within the company to different business units xxunk to be xxunk though given the xxunk xxunk of ebay</td>\n",
       "      <td>business_vision_competitors</td>\n",
       "    </tr>\n",
       "    <tr>\n",
       "      <td>xxbos there is n't a clear best practice as there is too much favoritism among some ' friends within the sales team division from which it creates a level of xxunk</td>\n",
       "      <td></td>\n",
       "    </tr>\n",
       "  </tbody>\n",
       "</table>"
      ],
      "text/plain": [
       "<IPython.core.display.HTML object>"
      ]
     },
     "metadata": {},
     "output_type": "display_data"
    }
   ],
   "source": [
    "# Re-fit model with classification label\n",
    "train = data2.copy(deep=True)\n",
    "label_cols = labels\n",
    "\n",
    "data_clas = (TextList.from_df(train, cols='pp_sent', vocab=data.vocab)\n",
    "             .split_by_rand_pct(0.2)\n",
    "             .label_from_df(cols= label_cols , classes=label_cols)\n",
    "#              .add_test(test_datalist)\n",
    "             .databunch(bs=32))\n",
    "\n",
    "data_clas.show_batch()"
   ]
  },
  {
   "cell_type": "code",
   "execution_count": 15,
   "metadata": {
    "ExecuteTime": {
     "end_time": "2020-01-12T08:19:58.830117Z",
     "start_time": "2020-01-12T08:19:43.059313Z"
    }
   },
   "outputs": [
    {
     "data": {
      "text/html": [
       "\n",
       "    <div>\n",
       "        <style>\n",
       "            /* Turns off some styling */\n",
       "            progress {\n",
       "                /* gets rid of default border in Firefox and Opera. */\n",
       "                border: none;\n",
       "                /* Needs to be in here for Safari polyfill so background images work as expected. */\n",
       "                background-size: auto;\n",
       "            }\n",
       "            .progress-bar-interrupted, .progress-bar-interrupted::-webkit-progress-bar {\n",
       "                background: #F44336;\n",
       "            }\n",
       "        </style>\n",
       "      <progress value='0' class='' max='1', style='width:300px; height:20px; vertical-align: middle;'></progress>\n",
       "      0.00% [0/1 00:00<00:00]\n",
       "    </div>\n",
       "    \n",
       "<table border=\"1\" class=\"dataframe\">\n",
       "  <thead>\n",
       "    <tr style=\"text-align: left;\">\n",
       "      <th>epoch</th>\n",
       "      <th>train_loss</th>\n",
       "      <th>valid_loss</th>\n",
       "      <th>time</th>\n",
       "    </tr>\n",
       "  </thead>\n",
       "  <tbody>\n",
       "  </tbody>\n",
       "</table><p>\n",
       "\n",
       "    <div>\n",
       "        <style>\n",
       "            /* Turns off some styling */\n",
       "            progress {\n",
       "                /* gets rid of default border in Firefox and Opera. */\n",
       "                border: none;\n",
       "                /* Needs to be in here for Safari polyfill so background images work as expected. */\n",
       "                background-size: auto;\n",
       "            }\n",
       "            .progress-bar-interrupted, .progress-bar-interrupted::-webkit-progress-bar {\n",
       "                background: #F44336;\n",
       "            }\n",
       "        </style>\n",
       "      <progress value='97' class='' max='200', style='width:300px; height:20px; vertical-align: middle;'></progress>\n",
       "      48.50% [97/200 00:14<00:15 1.8194]\n",
       "    </div>\n",
       "    "
      ],
      "text/plain": [
       "<IPython.core.display.HTML object>"
      ]
     },
     "metadata": {},
     "output_type": "display_data"
    },
    {
     "name": "stdout",
     "output_type": "stream",
     "text": [
      "LR Finder is complete, type {learner_name}.recorder.plot() to see the graph.\n"
     ]
    }
   ],
   "source": [
    "f_score = partial(fbeta, thresh=0.2)\n",
    "learn_classifier = text_classifier_learner(data_clas, AWD_LSTM, drop_mult=0.5, metrics=f_score)\n",
    "\n",
    "# load the encoder saved  \n",
    "learn_classifier.load_encoder('fine_tuned_enc')\n",
    "learn_classifier.freeze()\n",
    "\n",
    "# select the appropriate learning rate\n",
    "learn_classifier.lr_find()\n"
   ]
  },
  {
   "cell_type": "code",
   "execution_count": 16,
   "metadata": {
    "ExecuteTime": {
     "end_time": "2020-01-12T08:20:03.822219Z",
     "start_time": "2020-01-12T08:20:03.314307Z"
    }
   },
   "outputs": [
    {
     "data": {
      "image/png": "[encoded data removed]",
      "text/plain": [
       "<Figure size 432x288 with 1 Axes>"
      ]
     },
     "metadata": {
      "needs_background": "light"
     },
     "output_type": "display_data"
    }
   ],
   "source": [
    "# we typically find the point where the slope is steepest\n",
    "learn_classifier.recorder.plot()\n"
   ]
  },
  {
   "cell_type": "code",
   "execution_count": 97,
   "metadata": {
    "ExecuteTime": {
     "end_time": "2020-01-13T11:48:56.303435Z",
     "start_time": "2020-01-13T11:45:41.673732Z"
    }
   },
   "outputs": [
    {
     "data": {
      "text/html": [
       "<table border=\"1\" class=\"dataframe\">\n",
       "  <thead>\n",
       "    <tr style=\"text-align: left;\">\n",
       "      <th>epoch</th>\n",
       "      <th>train_loss</th>\n",
       "      <th>valid_loss</th>\n",
       "      <th>time</th>\n",
       "    </tr>\n",
       "  </thead>\n",
       "  <tbody>\n",
       "    <tr>\n",
       "      <td>0</td>\n",
       "      <td>0.171352</td>\n",
       "      <td>0.119099</td>\n",
       "      <td>00:37</td>\n",
       "    </tr>\n",
       "    <tr>\n",
       "      <td>1</td>\n",
       "      <td>0.167433</td>\n",
       "      <td>0.114570</td>\n",
       "      <td>00:38</td>\n",
       "    </tr>\n",
       "    <tr>\n",
       "      <td>2</td>\n",
       "      <td>0.167730</td>\n",
       "      <td>0.112970</td>\n",
       "      <td>00:40</td>\n",
       "    </tr>\n",
       "    <tr>\n",
       "      <td>3</td>\n",
       "      <td>0.162903</td>\n",
       "      <td>0.125850</td>\n",
       "      <td>00:40</td>\n",
       "    </tr>\n",
       "    <tr>\n",
       "      <td>4</td>\n",
       "      <td>0.160643</td>\n",
       "      <td>0.110538</td>\n",
       "      <td>00:37</td>\n",
       "    </tr>\n",
       "  </tbody>\n",
       "</table>"
      ],
      "text/plain": [
       "<IPython.core.display.HTML object>"
      ]
     },
     "metadata": {},
     "output_type": "display_data"
    }
   ],
   "source": [
    "# Fit the model based on selected learning rate\n",
    "learn_classifier.fit_one_cycle(5, 1e-2, moms=(0.8,0.7))\n"
   ]
  },
  {
   "cell_type": "code",
   "execution_count": 98,
   "metadata": {
    "ExecuteTime": {
     "end_time": "2020-01-13T11:48:56.950108Z",
     "start_time": "2020-01-13T11:48:56.305954Z"
    }
   },
   "outputs": [
    {
     "data": {
      "text/html": [
       "<table border=\"1\" class=\"dataframe\">\n",
       "  <thead>\n",
       "    <tr style=\"text-align: right;\">\n",
       "      <th>text</th>\n",
       "      <th>target</th>\n",
       "      <th>prediction</th>\n",
       "    </tr>\n",
       "  </thead>\n",
       "  <tbody>\n",
       "    <tr>\n",
       "      <td>xxbos your xxunk on package will xxunk a healthy amount of xxunk stock units xxunk that can become very xxunk later on if the stock price happens to double or xxunk xxunk you can stand to last long enough until they fully xxunk num years</td>\n",
       "      <td>business_vision_competitors</td>\n",
       "      <td></td>\n",
       "    </tr>\n",
       "    <tr>\n",
       "      <td>xxbos you do have autonomy in creating a sales plan to help you get over quota but you have to hit the call metrics regardless of your success xxunk with xxunk or decision xxunk thru xxunk xxunk even if that means num xxunk a day</td>\n",
       "      <td>management</td>\n",
       "      <td></td>\n",
       "    </tr>\n",
       "    <tr>\n",
       "      <td>xxbos there are non they xxunk give xxunk a break they work you so hard for very little pay some other higher ups that have no experience xxunk on there butt doing nothing but make much more</td>\n",
       "      <td>management</td>\n",
       "      <td></td>\n",
       "    </tr>\n",
       "    <tr>\n",
       "      <td>xxbos but i stuck with amazon for xxunk num years before getting bored with it because it was growing so fast xxunk from managing num servers to num num servers in num years</td>\n",
       "      <td>Job Security/Advancement</td>\n",
       "      <td></td>\n",
       "    </tr>\n",
       "    <tr>\n",
       "      <td>xxbos xxunk upper management you would know what i mean by xxunk when you listen to xxunk 's all hands meeting you will have to join nvidia for that we are hiring xxunk</td>\n",
       "      <td>management</td>\n",
       "      <td></td>\n",
       "    </tr>\n",
       "  </tbody>\n",
       "</table>"
      ],
      "text/plain": [
       "<IPython.core.display.HTML object>"
      ]
     },
     "metadata": {},
     "output_type": "display_data"
    }
   ],
   "source": [
    "learn_classifier.show_results()"
   ]
  },
  {
   "cell_type": "code",
   "execution_count": null,
   "metadata": {},
   "outputs": [],
   "source": []
  },
  {
   "cell_type": "code",
   "execution_count": null,
   "metadata": {},
   "outputs": [],
   "source": []
  },
  {
   "cell_type": "code",
   "execution_count": null,
   "metadata": {},
   "outputs": [],
   "source": []
  }
 ],
 "metadata": {
  "kernelspec": {
   "display_name": "Python 3",
   "language": "python",
   "name": "python3"
  },
  "language_info": {
   "codemirror_mode": {
    "name": "ipython",
    "version": 3
   },
   "file_extension": ".py",
   "mimetype": "text/x-python",
   "name": "python",
   "nbconvert_exporter": "python",
   "pygments_lexer": "ipython3",
   "version": "3.6.7"
  }
 },
 "nbformat": 4,
 "nbformat_minor": 2
}
